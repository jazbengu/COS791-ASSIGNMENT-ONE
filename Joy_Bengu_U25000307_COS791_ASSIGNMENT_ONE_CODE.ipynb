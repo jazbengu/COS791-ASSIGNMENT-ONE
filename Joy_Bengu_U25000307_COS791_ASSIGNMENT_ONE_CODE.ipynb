{
  "nbformat": 4,
  "nbformat_minor": 0,
  "metadata": {
    "colab": {
      "provenance": [],
      "authorship_tag": "ABX9TyNKNoK2tdiKhk0YUAm0uhzR"
    },
    "kernelspec": {
      "name": "python3",
      "display_name": "Python 3"
    },
    "language_info": {
      "name": "python"
    }
  },
  "cells": [
    {
      "cell_type": "code",
      "execution_count": null,
      "metadata": {
        "id": "ZPwD4edTIMV1"
      },
      "outputs": [],
      "source": [
        "import random"
      ]
    },
    {
      "cell_type": "code",
      "source": [
        "img_tech = [\"Gamma Correction\", \"Gaussian Blur\", \"Unsharp Masking\", \"Histogram Equalisation\", \"Contrast Stretching\"]"
      ],
      "metadata": {
        "id": "H0S3jB2hIROe"
      },
      "execution_count": null,
      "outputs": []
    },
    {
      "cell_type": "code",
      "source": [
        "def parameter_tech(tech):\n",
        "  if tech == \"Gamma Correction\":\n",
        "    gamma = random.uniform(0.5, 2.0)\n",
        "    return {\"gamma\":gamma}\n",
        "  elif tech == \"Gaussian Blur\":\n",
        "    return {\"sigma\": random.uniform(0.5, 5.0)}\n",
        "  elif tech == \"Unsharp Masking\":\n",
        "    return {\"amount\": random.uniform(0.5, 2.0)}\n",
        "  elif tech == \"Histogram Equalisation\":\n",
        "    return {}\n",
        "  elif tech == \"Contrast Stretching\":\n",
        "    return\n",
        "  else:\n",
        "    return {}"
      ],
      "metadata": {
        "id": "pEAwH0VIIWp8"
      },
      "execution_count": null,
      "outputs": []
    },
    {
      "cell_type": "code",
      "source": [
        "def ran_pipeline(min_len=4, max_len=6):\n",
        "  len = random.randint(min_len, max_len)\n",
        "  pipeline = []\n",
        "  for x in range(len):\n",
        "    tech = random.choice(img_tech)\n",
        "    para = parameter_tech(tech)\n",
        "    pipeline.append({\"tech\":tech, \"params\":parameter_tech(tech)})\n",
        "  return pipeline"
      ],
      "metadata": {
        "id": "3cGc4rqrJIX_"
      },
      "execution_count": null,
      "outputs": []
    },
    {
      "cell_type": "code",
      "source": [
        "random_pipeline = ran_pipeline()\n",
        "print(random_pipeline)"
      ],
      "metadata": {
        "colab": {
          "base_uri": "https://localhost:8080/"
        },
        "id": "ufk0kJzZJ6rG",
        "outputId": "6ef5e602-e846-43d2-eda9-0e51dc29bd46"
      },
      "execution_count": null,
      "outputs": [
        {
          "output_type": "stream",
          "name": "stdout",
          "text": [
            "[{'tech': 'Gaussian Blur', 'params': {'sigma': 3.109908727356519}}, {'tech': 'Gamma Correction', 'params': {'gamma': 1.1440545008444796}}, {'tech': 'Gaussian Blur', 'params': {'sigma': 1.906983770334503}}, {'tech': 'Gamma Correction', 'params': {'gamma': 0.5074905670003411}}]\n"
          ]
        }
      ]
    }
  ]
}